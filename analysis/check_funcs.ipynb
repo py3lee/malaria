{
 "cells": [
  {
   "cell_type": "markdown",
   "id": "fc5ead3a",
   "metadata": {
    "toc": true
   },
   "source": [
    "<h1>Table of Contents<span class=\"tocSkip\"></span></h1>\n",
    "<div class=\"toc\"><ul class=\"toc-item\"></ul></div>"
   ]
  },
  {
   "cell_type": "code",
   "execution_count": 1,
   "id": "cc02a3f0",
   "metadata": {
    "ExecuteTime": {
     "end_time": "2021-11-17T02:01:03.965909Z",
     "start_time": "2021-11-17T02:01:03.456099Z"
    }
   },
   "outputs": [],
   "source": [
    "import glob\n",
    "import matplotlib.pyplot as plt\n",
    "import numpy as np\n",
    "import pandas as pd\n",
    "from pathlib import Path"
   ]
  },
  {
   "cell_type": "code",
   "execution_count": 2,
   "id": "07c97f13",
   "metadata": {
    "ExecuteTime": {
     "end_time": "2021-11-17T02:01:03.981932Z",
     "start_time": "2021-11-17T02:01:03.966903Z"
    }
   },
   "outputs": [
    {
     "name": "stdout",
     "output_type": "stream",
     "text": [
      "File names of csv files in data folder: ['malaria_deaths', 'malaria_deaths_age', 'malaria_inc']\n"
     ]
    }
   ],
   "source": [
    "data_folder = Path.cwd().parents[0]/'data'\n",
    "\n",
    "# get list of absolute file paths for all csv files in data folder\n",
    "data_filepaths = [file for file in glob.glob(f\"{data_folder}/*.csv\")]\n",
    "\n",
    "print(\n",
    "    f'File names of csv files in data folder: {[Path(file).stem for file in data_filepaths]}'\n",
    ")"
   ]
  },
  {
   "cell_type": "code",
   "execution_count": 3,
   "id": "59917c31",
   "metadata": {
    "ExecuteTime": {
     "end_time": "2021-11-17T02:01:04.012268Z",
     "start_time": "2021-11-17T02:01:03.982207Z"
    }
   },
   "outputs": [],
   "source": [
    "deaths = pd.read_csv(data_filepaths[0])\n",
    "deaths_age = pd.read_csv(data_filepaths[1])\n",
    "inc = pd.read_csv(data_filepaths[2])"
   ]
  },
  {
   "cell_type": "code",
   "execution_count": 4,
   "id": "4ed1ec5a",
   "metadata": {
    "ExecuteTime": {
     "end_time": "2021-11-17T02:01:04.027482Z",
     "start_time": "2021-11-17T02:01:04.013270Z"
    }
   },
   "outputs": [],
   "source": [
    "def get_entity_type(code, entity, income_demo):\n",
    "    \n",
    "    if entity == 'World':\n",
    "         entity_type = 'World'\n",
    "    elif not pd.isnull(code):\n",
    "        entity_type = 'Country'\n",
    "    elif pd.isnull(code) and 'SDI' in entity:\n",
    "        entity_type = 'SDI'\n",
    "    elif pd.isnull(code) and entity in income_demo:\n",
    "        entity_type = 'Income/Demographic'\n",
    "    else:\n",
    "        entity_type = 'Region'\n",
    "\n",
    "    return entity_type\n",
    "\n",
    "def assign_entity_type(df, income_demo):\n",
    "    \n",
    "    # apply 'get_entity_type' function to each row\n",
    "    df['entity_type'] = df.apply(\n",
    "        lambda x: get_entity_type(\n",
    "            x['code'], \n",
    "            x['entity'],\n",
    "            income_demo = income_demo\n",
    "        ), \n",
    "        axis=1\n",
    "    )\n",
    "    return df\n",
    "\n",
    "def fill_uk_code(df, uk_list):\n",
    "    \n",
    "    df.loc[\n",
    "        (df.code.isnull() & df.entity.isin(uk_list)),\n",
    "        \"code\"\n",
    "    ] = \"GBR\"\n",
    "    \n",
    "    return df\n",
    "\n",
    "def lowercase_columns(df):\n",
    "    \n",
    "    df.columns = df.columns.str.lower()\n",
    "    \n",
    "    return df\n",
    "\n",
    "def rename_columns(df, rename_dict):\n",
    "    \n",
    "    for key, value in rename_dict.items():\n",
    "        \n",
    "        if key in df.columns:\n",
    "            \n",
    "            df.rename(\n",
    "            columns = {\n",
    "                key : value\n",
    "            },\n",
    "            inplace = True\n",
    "        )\n",
    "            \n",
    "    return df"
   ]
  },
  {
   "cell_type": "code",
   "execution_count": 5,
   "id": "b6b65e1a",
   "metadata": {
    "ExecuteTime": {
     "end_time": "2021-11-17T02:01:04.043546Z",
     "start_time": "2021-11-17T02:01:04.028317Z"
    }
   },
   "outputs": [],
   "source": [
    "# list of entities that will be grouped under 'Income/Demographic' entity_type\n",
    "income_demo = [\n",
    "    'Fragile and conflict affected situations',\n",
    "    'Heavily indebted poor countries (HIPC)',\n",
    "    'Late-demographic dividend',\n",
    "    'Least developed countries: UN classification',\n",
    "    'Low & middle income', \n",
    "    'Low income', \n",
    "    'Lower middle income',\n",
    "    'Middle income',\n",
    "    'Pre-demographic dividend',\n",
    "    'Upper middle income'\n",
    "]\n",
    "\n",
    "# list of uk entities\n",
    "uk_list = ['Wales', 'England', 'Scotland', 'Northern Ireland', 'United Kingdom']\n",
    "\n",
    "# dictionary of column names to rename\n",
    "rename_dict ={\n",
    "    'deaths - malaria - sex: both - age: age-standardized (rate) (per 100,000 people)': 'age_std_death_rate',\n",
    "    'incidence of malaria (per 1,000 population at risk) (per 1,000 population at risk)' : 'malaria_incidence_1000'\n",
    "}"
   ]
  },
  {
   "cell_type": "code",
   "execution_count": 6,
   "id": "73c479c2",
   "metadata": {
    "ExecuteTime": {
     "end_time": "2021-11-17T02:01:04.105596Z",
     "start_time": "2021-11-17T02:01:04.044411Z"
    }
   },
   "outputs": [],
   "source": [
    "deaths = lowercase_columns(deaths)\n",
    "deaths = rename_columns(deaths, rename_dict)\n",
    "deaths = fill_uk_code(deaths, uk_list)\n",
    "test = assign_entity_type(deaths, income_demo)"
   ]
  },
  {
   "cell_type": "code",
   "execution_count": 7,
   "id": "2fc45c67",
   "metadata": {
    "ExecuteTime": {
     "end_time": "2021-11-17T02:01:04.120947Z",
     "start_time": "2021-11-17T02:01:04.105927Z"
    },
    "scrolled": true
   },
   "outputs": [
    {
     "data": {
      "text/plain": [
       "Country    5373\n",
       "Region      621\n",
       "SDI         135\n",
       "World        27\n",
       "Name: entity_type, dtype: int64"
      ]
     },
     "execution_count": 7,
     "metadata": {},
     "output_type": "execute_result"
    }
   ],
   "source": [
    "test.entity_type.value_counts()"
   ]
  },
  {
   "cell_type": "code",
   "execution_count": 9,
   "id": "59a8465b",
   "metadata": {
    "ExecuteTime": {
     "end_time": "2021-11-17T03:10:50.865722Z",
     "start_time": "2021-11-17T03:10:50.856753Z"
    }
   },
   "outputs": [
    {
     "data": {
      "text/plain": [
       "'C:\\\\Users\\\\PY\\\\Desktop\\\\portfolio\\\\projects\\\\malaria\\\\data\\\\malaria_deaths.csv'"
      ]
     },
     "execution_count": 9,
     "metadata": {},
     "output_type": "execute_result"
    }
   ],
   "source": [
    "data_filepaths[0]"
   ]
  },
  {
   "cell_type": "code",
   "execution_count": 11,
   "id": "16982338",
   "metadata": {
    "ExecuteTime": {
     "end_time": "2021-11-17T03:11:08.545795Z",
     "start_time": "2021-11-17T03:11:08.536830Z"
    }
   },
   "outputs": [
    {
     "data": {
      "text/plain": [
       "'malaria_deaths.csv'"
      ]
     },
     "execution_count": 11,
     "metadata": {},
     "output_type": "execute_result"
    }
   ],
   "source": [
    "Path(data_filepaths[0]).name"
   ]
  },
  {
   "cell_type": "code",
   "execution_count": 12,
   "id": "59e2b955",
   "metadata": {
    "ExecuteTime": {
     "end_time": "2021-11-17T03:11:16.910773Z",
     "start_time": "2021-11-17T03:11:16.896766Z"
    }
   },
   "outputs": [
    {
     "data": {
      "text/plain": [
       "True"
      ]
     },
     "execution_count": 12,
     "metadata": {},
     "output_type": "execute_result"
    }
   ],
   "source": [
    "'malaria_deaths.csv' == Path(data_filepaths[0]).name"
   ]
  },
  {
   "cell_type": "code",
   "execution_count": null,
   "id": "94fdfb00",
   "metadata": {},
   "outputs": [],
   "source": []
  }
 ],
 "metadata": {
  "kernelspec": {
   "display_name": "Python 3 (ipykernel)",
   "language": "python",
   "name": "python3"
  },
  "language_info": {
   "codemirror_mode": {
    "name": "ipython",
    "version": 3
   },
   "file_extension": ".py",
   "mimetype": "text/x-python",
   "name": "python",
   "nbconvert_exporter": "python",
   "pygments_lexer": "ipython3",
   "version": "3.7.11"
  },
  "toc": {
   "base_numbering": 1,
   "nav_menu": {},
   "number_sections": true,
   "sideBar": true,
   "skip_h1_title": false,
   "title_cell": "Table of Contents",
   "title_sidebar": "Contents",
   "toc_cell": true,
   "toc_position": {},
   "toc_section_display": true,
   "toc_window_display": true
  }
 },
 "nbformat": 4,
 "nbformat_minor": 5
}
